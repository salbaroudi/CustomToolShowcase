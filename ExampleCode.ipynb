{
 "cells": [
  {
   "cell_type": "code",
   "execution_count": 1,
   "metadata": {},
   "outputs": [],
   "source": [
    "from src.seanmod import *"
   ]
  },
  {
   "cell_type": "code",
   "execution_count": 2,
   "metadata": {},
   "outputs": [],
   "source": [
    "irisDF = pd.read_csv(\"./data/iris.csv\")\n",
    "mtcarsDF = pd.read_csv(\"./data/mtcars.csv\")\n",
    "timeDF = pd.read_csv(\"./data/timeexample.csv\")"
   ]
  },
  {
   "cell_type": "markdown",
   "metadata": {},
   "source": [
    "## BoxplotBlast() Example:\n",
    "\n",
    "This code takes a DataFrame as an input, picks out all numerical columns, and then displays stacked \n",
    "boxplots for each numerical column. Because some numerical columns can have large tails of outliers,\n",
    "BoxPlotBlast clips the visualizations, indicating outlier tails or max/min values (with coloured lines).\n",
    "\n",
    "For the dataset below, we see a lot of variation in outlier tails and bounds. Data scaling might also be required, depending on the modelling applcation."
   ]
  },
  {
   "cell_type": "code",
   "execution_count": 3,
   "metadata": {},
   "outputs": [
    {
     "name": "stdout",
     "output_type": "stream",
     "text": [
      "Guide: Blue lines indicate max/min value. Red Lines indicate cutoff of outliers.\n"
     ]
    },
    {
     "data": {
      "application/javascript": [
       "var spec = {\"config\": {\"view\": {\"width\": 400, \"height\": 300}, \"mark\": {\"tooltip\": null}}, \"vconcat\": [{\"layer\": [{\"data\": {\"name\": \"data-ab14b30a168dd70df7cfda47fc8bc195\"}, \"mark\": {\"type\": \"boxplot\", \"clip\": true, \"extent\": 1.5, \"size\": 35}, \"encoding\": {\"x\": {\"type\": \"quantitative\", \"axis\": {\"title\": \" \"}, \"field\": \"datum\", \"scale\": {\"domain\": [5.924999999999999, 32.475], \"zero\": false}}, \"y\": {\"type\": \"ordinal\", \"axis\": {\"title\": \" \"}, \"field\": \"mpg\"}}, \"height\": 100, \"width\": 400}, {\"data\": {\"name\": \"data-ab14b30a168dd70df7cfda47fc8bc195\"}, \"mark\": {\"type\": \"rule\", \"color\": \"blue\"}, \"encoding\": {\"size\": {\"value\": 3}, \"x\": {\"type\": \"quantitative\", \"field\": \"min\"}}}, {\"data\": {\"name\": \"data-ab14b30a168dd70df7cfda47fc8bc195\"}, \"mark\": {\"type\": \"rule\", \"color\": \"red\"}, \"encoding\": {\"size\": {\"value\": 3}, \"x\": {\"type\": \"quantitative\", \"field\": \"outlierR\"}}}]}, {\"layer\": [{\"data\": {\"name\": \"data-196151484b660f31bacb6b9a9702b319\"}, \"mark\": {\"type\": \"boxplot\", \"clip\": true, \"extent\": 1.5, \"size\": 35}, \"encoding\": {\"x\": {\"type\": \"quantitative\", \"axis\": {\"title\": \" \"}, \"field\": \"datum\", \"scale\": {\"domain\": [-1.2000000000000002, 13.2], \"zero\": false}}, \"y\": {\"type\": \"ordinal\", \"axis\": {\"title\": \" \"}, \"field\": \"cyl\"}}, \"height\": 100, \"width\": 400}, {\"data\": {\"name\": \"data-196151484b660f31bacb6b9a9702b319\"}, \"mark\": {\"type\": \"rule\", \"color\": \"blue\"}, \"encoding\": {\"size\": {\"value\": 3}, \"x\": {\"type\": \"quantitative\", \"field\": \"min\"}}}, {\"data\": {\"name\": \"data-196151484b660f31bacb6b9a9702b319\"}, \"mark\": {\"type\": \"rule\", \"color\": \"blue\"}, \"encoding\": {\"size\": {\"value\": 3}, \"x\": {\"type\": \"quantitative\", \"field\": \"max\"}}}]}, {\"layer\": [{\"data\": {\"name\": \"data-bc59d7ffa83f5e829f5333354788038f\"}, \"mark\": {\"type\": \"boxplot\", \"clip\": true, \"extent\": 1.5, \"size\": 35}, \"encoding\": {\"x\": {\"type\": \"quantitative\", \"axis\": {\"title\": \" \"}, \"field\": \"datum\", \"scale\": {\"domain\": [14.0965, 21.323500000000003], \"zero\": false}}, \"y\": {\"type\": \"ordinal\", \"axis\": {\"title\": \" \"}, \"field\": \"qsec\"}}, \"height\": 100, \"width\": 400}, {\"data\": {\"name\": \"data-bc59d7ffa83f5e829f5333354788038f\"}, \"mark\": {\"type\": \"rule\", \"color\": \"red\"}, \"encoding\": {\"size\": {\"value\": 3}, \"x\": {\"type\": \"quantitative\", \"field\": \"outlierL\"}}}, {\"data\": {\"name\": \"data-bc59d7ffa83f5e829f5333354788038f\"}, \"mark\": {\"type\": \"rule\", \"color\": \"red\"}, \"encoding\": {\"size\": {\"value\": 3}, \"x\": {\"type\": \"quantitative\", \"field\": \"outlierR\"}}}]}, {\"layer\": [{\"data\": {\"name\": \"data-590738764961f8d6ac98cc10c8f49b54\"}, \"mark\": {\"type\": \"boxplot\", \"clip\": true, \"extent\": 1.5, \"size\": 35}, \"encoding\": {\"x\": {\"type\": \"quantitative\", \"axis\": {\"title\": \" \"}, \"field\": \"datum\", \"scale\": {\"domain\": [2.2, 5.8], \"zero\": false}}, \"y\": {\"type\": \"ordinal\", \"axis\": {\"title\": \" \"}, \"field\": \"gear\"}}, \"height\": 100, \"width\": 400}, {\"data\": {\"name\": \"data-590738764961f8d6ac98cc10c8f49b54\"}, \"mark\": {\"type\": \"rule\", \"color\": \"blue\"}, \"encoding\": {\"size\": {\"value\": 3}, \"x\": {\"type\": \"quantitative\", \"field\": \"min\"}}}, {\"data\": {\"name\": \"data-590738764961f8d6ac98cc10c8f49b54\"}, \"mark\": {\"type\": \"rule\", \"color\": \"blue\"}, \"encoding\": {\"size\": {\"value\": 3}, \"x\": {\"type\": \"quantitative\", \"field\": \"max\"}}}]}, {\"layer\": [{\"data\": {\"name\": \"data-d9772606ef9ae3d9a105878432ec810a\"}, \"mark\": {\"type\": \"boxplot\", \"clip\": true, \"extent\": 1.5, \"size\": 35}, \"encoding\": {\"x\": {\"type\": \"quantitative\", \"axis\": {\"title\": \" \"}, \"field\": \"datum\", \"scale\": {\"domain\": [-1.6, 5.6], \"zero\": false}}, \"y\": {\"type\": \"ordinal\", \"axis\": {\"title\": \" \"}, \"field\": \"carb\"}}, \"height\": 100, \"width\": 400}, {\"data\": {\"name\": \"data-d9772606ef9ae3d9a105878432ec810a\"}, \"mark\": {\"type\": \"rule\", \"color\": \"blue\"}, \"encoding\": {\"size\": {\"value\": 3}, \"x\": {\"type\": \"quantitative\", \"field\": \"min\"}}}, {\"data\": {\"name\": \"data-d9772606ef9ae3d9a105878432ec810a\"}, \"mark\": {\"type\": \"rule\", \"color\": \"red\"}, \"encoding\": {\"size\": {\"value\": 3}, \"x\": {\"type\": \"quantitative\", \"field\": \"outlierR\"}}}]}], \"$schema\": \"https://vega.github.io/schema/vega-lite/v3.2.1.json\", \"datasets\": {\"data-ab14b30a168dd70df7cfda47fc8bc195\": [{\"mpg\": \"mpg\", \"datum\": 8.1375, \"min\": 10.4, \"outlierR\": 30.2625}, {\"mpg\": \"mpg\", \"datum\": 15.425, \"min\": 10.4, \"outlierR\": 30.2625}, {\"mpg\": \"mpg\", \"datum\": 19.2, \"min\": 10.4, \"outlierR\": 30.2625}, {\"mpg\": \"mpg\", \"datum\": 22.8, \"min\": 10.4, \"outlierR\": 30.2625}, {\"mpg\": \"mpg\", \"datum\": 30.2625, \"min\": 10.4, \"outlierR\": 30.2625}], \"data-196151484b660f31bacb6b9a9702b319\": [{\"cyl\": \"cyl\", \"datum\": 0.0, \"min\": 4, \"max\": 8}, {\"cyl\": \"cyl\", \"datum\": 4.0, \"min\": 4, \"max\": 8}, {\"cyl\": \"cyl\", \"datum\": 6.0, \"min\": 4, \"max\": 8}, {\"cyl\": \"cyl\", \"datum\": 8.0, \"min\": 4, \"max\": 8}, {\"cyl\": \"cyl\", \"datum\": 12.0, \"min\": 4, \"max\": 8}], \"data-bc59d7ffa83f5e829f5333354788038f\": [{\"qsec\": \"qsec\", \"datum\": 14.69875, \"outlierL\": 14.69875, \"outlierR\": 20.72125}, {\"qsec\": \"qsec\", \"datum\": 16.8925, \"outlierL\": 14.69875, \"outlierR\": 20.72125}, {\"qsec\": \"qsec\", \"datum\": 17.71, \"outlierL\": 14.69875, \"outlierR\": 20.72125}, {\"qsec\": \"qsec\", \"datum\": 18.9, \"outlierL\": 14.69875, \"outlierR\": 20.72125}, {\"qsec\": \"qsec\", \"datum\": 20.72125, \"outlierL\": 14.69875, \"outlierR\": 20.72125}], \"data-590738764961f8d6ac98cc10c8f49b54\": [{\"gear\": \"gear\", \"datum\": 2.5, \"min\": 3, \"max\": 5}, {\"gear\": \"gear\", \"datum\": 3.0, \"min\": 3, \"max\": 5}, {\"gear\": \"gear\", \"datum\": 4.0, \"min\": 3, \"max\": 5}, {\"gear\": \"gear\", \"datum\": 4.0, \"min\": 3, \"max\": 5}, {\"gear\": \"gear\", \"datum\": 5.5, \"min\": 3, \"max\": 5}], \"data-d9772606ef9ae3d9a105878432ec810a\": [{\"carb\": \"carb\", \"datum\": -1.0, \"min\": 1, \"outlierR\": 5.0}, {\"carb\": \"carb\", \"datum\": 2.0, \"min\": 1, \"outlierR\": 5.0}, {\"carb\": \"carb\", \"datum\": 2.0, \"min\": 1, \"outlierR\": 5.0}, {\"carb\": \"carb\", \"datum\": 4.0, \"min\": 1, \"outlierR\": 5.0}, {\"carb\": \"carb\", \"datum\": 5.0, \"min\": 1, \"outlierR\": 5.0}]}};\n",
       "var opt = {};\n",
       "var type = \"vega-lite\";\n",
       "var id = \"8eb511e3-a5f1-40e9-b4f7-8c052ac4b172\";\n",
       "\n",
       "var output_area = this;\n",
       "\n",
       "require([\"nbextensions/jupyter-vega/index\"], function(vega) {\n",
       "  var target = document.createElement(\"div\");\n",
       "  target.id = id;\n",
       "  target.className = \"vega-embed\";\n",
       "\n",
       "  var style = document.createElement(\"style\");\n",
       "  style.textContent = [\n",
       "    \".vega-embed .error p {\",\n",
       "    \"  color: firebrick;\",\n",
       "    \"  font-size: 14px;\",\n",
       "    \"}\",\n",
       "  ].join(\"\\\\n\");\n",
       "\n",
       "  // element is a jQuery wrapped DOM element inside the output area\n",
       "  // see http://ipython.readthedocs.io/en/stable/api/generated/\\\n",
       "  // IPython.display.html#IPython.display.Javascript.__init__\n",
       "  element[0].appendChild(target);\n",
       "  element[0].appendChild(style);\n",
       "\n",
       "  vega.render(\"#\" + id, spec, type, opt, output_area);\n",
       "}, function (err) {\n",
       "  if (err.requireType !== \"scripterror\") {\n",
       "    throw(err);\n",
       "  }\n",
       "});\n"
      ],
      "text/plain": [
       "<vega.vegalite.VegaLite at 0x7fce2694fe48>"
      ]
     },
     "metadata": {
      "jupyter-vega": "#8eb511e3-a5f1-40e9-b4f7-8c052ac4b172"
     },
     "output_type": "display_data"
    },
    {
     "data": {
      "image/png": "[encoded data removed]"
     },
     "metadata": {
      "jupyter-vega": "#8eb511e3-a5f1-40e9-b4f7-8c052ac4b172"
     },
     "output_type": "display_data"
    },
    {
     "data": {
      "text/plain": []
     },
     "execution_count": 3,
     "metadata": {},
     "output_type": "execute_result"
    }
   ],
   "source": [
    "#The MTCARS example:\n",
    "#The function can be found in seanmod\n",
    "boxplotblast(mtcarsDF[[\"mpg\",\"cyl\",\"qsec\",\"gear\",\"carb\"]])"
   ]
  },
  {
   "cell_type": "markdown",
   "metadata": {},
   "source": [
    "## Timeline Visualization Example:\n",
    "\n",
    "For large datasets with time-series data, an Analyst may wonder about gaps in the data itself. This visualization uses a heatmap to show the number of records in a given time window. It quickly shows if records or missing, or if the number of records per unit time is constant.\n",
    "\n",
    "We can see clearly in the example below, that some data for a given day is completely missing. For other days, the number of records is heavy/light (not constant)."
   ]
  },
  {
   "cell_type": "code",
   "execution_count": 62,
   "metadata": {},
   "outputs": [],
   "source": [
    "#Signature: DataFrame, String -> Altair Chart\n",
    "#Purpose: Give a Dataframe, and a timestamp column. A heatmap will be produced.\n",
    "#Note: Assumes the timestamp column is in string form (fresh read from a csv or file).\n",
    "#Do not pass datetime columns!\n",
    "\n",
    "def dayheatmap(timeDF,tcol):\n",
    "    if tcol not in timeDF.columns:\n",
    "        raise ValueError(\"ERROR: time column given is not in DataFrame!\")\n",
    "    if not isinstance(timeDF[tcol].iloc[1],str):\n",
    "        raise ValueError(\"ERROR: time column is not of type string!\")\n",
    "    if (timeDF.shape[0] < 1):\n",
    "        raise ValueError(\"ERROR: Dataframe is empty (zero rows).\")\n",
    "    \n",
    "    timeDF = timeDF.applymap(pd.Timestamp)\n",
    "    #Conversion for\n",
    "    timeDF[\"invoicedate\"] = timeDF[\"invoicedate\"].apply(lambda x: str(x.year) + \"-\" + str(x.month) + \"-\" + str(x.day))\n",
    "    timeDF[\"mark\"] = 1\n",
    "\n",
    "    timeGroup = timeDF[[\"invoicedate\",\"mark\"]].groupby(\"invoicedate\",as_index=False).count()\n",
    "    \n",
    "    heatChart = alt.Chart(timeGroup).mark_rect().encode(\n",
    "      alt.X(\"yearmonth(invoicedate):O\"),\n",
    "      alt.Y(\"date(invoicedate):O\"),\n",
    "      alt.Color(\"mark\"))\n",
    "\n",
    "    return heatChart"
   ]
  },
  {
   "cell_type": "code",
   "execution_count": 63,
   "metadata": {},
   "outputs": [
    {
     "data": {
      "application/javascript": [
       "var spec = {\"config\": {\"view\": {\"width\": 400, \"height\": 300}, \"mark\": {\"tooltip\": null}}, \"data\": {\"name\": \"data-2c4498ffe1e05f632484f2aeee8863bd\"}, \"mark\": \"rect\", \"encoding\": {\"color\": {\"type\": \"quantitative\", \"field\": \"mark\"}, \"x\": {\"type\": \"ordinal\", \"field\": \"invoicedate\", \"timeUnit\": \"yearmonth\"}, \"y\": {\"type\": \"ordinal\", \"field\": \"invoicedate\", \"timeUnit\": \"date\"}}, \"$schema\": \"https://vega.github.io/schema/vega-lite/v3.2.1.json\", \"datasets\": {\"data-2c4498ffe1e05f632484f2aeee8863bd\": [{\"invoicedate\": \"2010-12-1\", \"mark\": 1942}, {\"invoicedate\": \"2010-12-10\", \"mark\": 1380}, {\"invoicedate\": \"2010-12-12\", \"mark\": 1436}, {\"invoicedate\": \"2010-12-13\", \"mark\": 1267}, {\"invoicedate\": \"2010-12-14\", \"mark\": 1621}, {\"invoicedate\": \"2010-12-15\", \"mark\": 1289}, {\"invoicedate\": \"2010-12-16\", \"mark\": 1667}, {\"invoicedate\": \"2010-12-17\", \"mark\": 722}, {\"invoicedate\": \"2010-12-19\", \"mark\": 494}, {\"invoicedate\": \"2010-12-2\", \"mark\": 2000}, {\"invoicedate\": \"2010-12-20\", \"mark\": 829}, {\"invoicedate\": \"2010-12-21\", \"mark\": 398}, {\"invoicedate\": \"2010-12-22\", \"mark\": 216}, {\"invoicedate\": \"2010-12-23\", \"mark\": 336}, {\"invoicedate\": \"2010-12-3\", \"mark\": 1103}, {\"invoicedate\": \"2010-12-5\", \"mark\": 2708}, {\"invoicedate\": \"2010-12-6\", \"mark\": 1945}, {\"invoicedate\": \"2010-12-7\", \"mark\": 1110}, {\"invoicedate\": \"2010-12-8\", \"mark\": 1948}, {\"invoicedate\": \"2010-12-9\", \"mark\": 1749}, {\"invoicedate\": \"2011-1-10\", \"mark\": 792}, {\"invoicedate\": \"2011-1-11\", \"mark\": 841}, {\"invoicedate\": \"2011-1-12\", \"mark\": 903}, {\"invoicedate\": \"2011-1-13\", \"mark\": 727}, {\"invoicedate\": \"2011-1-14\", \"mark\": 800}, {\"invoicedate\": \"2011-1-16\", \"mark\": 642}, {\"invoicedate\": \"2011-1-17\", \"mark\": 960}, {\"invoicedate\": \"2011-1-18\", \"mark\": 528}, {\"invoicedate\": \"2011-1-19\", \"mark\": 952}, {\"invoicedate\": \"2011-1-20\", \"mark\": 691}, {\"invoicedate\": \"2011-1-21\", \"mark\": 688}, {\"invoicedate\": \"2011-1-23\", \"mark\": 860}, {\"invoicedate\": \"2011-1-24\", \"mark\": 762}, {\"invoicedate\": \"2011-1-25\", \"mark\": 1197}, {\"invoicedate\": \"2011-1-26\", \"mark\": 993}, {\"invoicedate\": \"2011-1-27\", \"mark\": 1308}, {\"invoicedate\": \"2011-1-28\", \"mark\": 644}, {\"invoicedate\": \"2011-1-30\", \"mark\": 714}, {\"invoicedate\": \"2011-1-31\", \"mark\": 1000}, {\"invoicedate\": \"2011-1-4\", \"mark\": 746}, {\"invoicedate\": \"2011-1-5\", \"mark\": 1047}, {\"invoicedate\": \"2011-1-6\", \"mark\": 1266}, {\"invoicedate\": \"2011-1-7\", \"mark\": 1073}, {\"invoicedate\": \"2011-1-9\", \"mark\": 1098}, {\"invoicedate\": \"2011-10-10\", \"mark\": 2726}, {\"invoicedate\": \"2011-10-11\", \"mark\": 1801}, {\"invoicedate\": \"2011-10-12\", \"mark\": 1439}, {\"invoicedate\": \"2011-10-13\", \"mark\": 1953}, {\"invoicedate\": \"2011-10-14\", \"mark\": 1487}, {\"invoicedate\": \"2011-10-16\", \"mark\": 1247}, {\"invoicedate\": \"2011-10-17\", \"mark\": 2376}, {\"invoicedate\": \"2011-10-18\", \"mark\": 2043}, {\"invoicedate\": \"2011-10-19\", \"mark\": 1837}, {\"invoicedate\": \"2011-10-2\", \"mark\": 1420}, {\"invoicedate\": \"2011-10-20\", \"mark\": 2302}, {\"invoicedate\": \"2011-10-21\", \"mark\": 1322}, {\"invoicedate\": \"2011-10-23\", \"mark\": 1724}, {\"invoicedate\": \"2011-10-24\", \"mark\": 1860}, {\"invoicedate\": \"2011-10-25\", \"mark\": 2080}, {\"invoicedate\": \"2011-10-26\", \"mark\": 1731}, {\"invoicedate\": \"2011-10-27\", \"mark\": 2251}, {\"invoicedate\": \"2011-10-28\", \"mark\": 1417}, {\"invoicedate\": \"2011-10-3\", \"mark\": 1758}, {\"invoicedate\": \"2011-10-30\", \"mark\": 2901}, {\"invoicedate\": \"2011-10-31\", \"mark\": 1826}, {\"invoicedate\": \"2011-10-4\", \"mark\": 2061}, {\"invoicedate\": \"2011-10-5\", \"mark\": 2156}, {\"invoicedate\": \"2011-10-6\", \"mark\": 2643}, {\"invoicedate\": \"2011-10-7\", \"mark\": 1955}, {\"invoicedate\": \"2011-10-9\", \"mark\": 1241}, {\"invoicedate\": \"2011-11-1\", \"mark\": 1722}, {\"invoicedate\": \"2011-11-10\", \"mark\": 3136}, {\"invoicedate\": \"2011-11-11\", \"mark\": 2418}, {\"invoicedate\": \"2011-11-13\", \"mark\": 2732}, {\"invoicedate\": \"2011-11-14\", \"mark\": 2903}, {\"invoicedate\": \"2011-11-15\", \"mark\": 2180}, {\"invoicedate\": \"2011-11-16\", \"mark\": 2738}, {\"invoicedate\": \"2011-11-17\", \"mark\": 3003}, {\"invoicedate\": \"2011-11-18\", \"mark\": 2148}, {\"invoicedate\": \"2011-11-2\", \"mark\": 1759}, {\"invoicedate\": \"2011-11-20\", \"mark\": 3095}, {\"invoicedate\": \"2011-11-21\", \"mark\": 2345}, {\"invoicedate\": \"2011-11-22\", \"mark\": 2820}, {\"invoicedate\": \"2011-11-23\", \"mark\": 3280}, {\"invoicedate\": \"2011-11-24\", \"mark\": 2421}, {\"invoicedate\": \"2011-11-25\", \"mark\": 1698}, {\"invoicedate\": \"2011-11-27\", \"mark\": 2461}, {\"invoicedate\": \"2011-11-28\", \"mark\": 2763}, {\"invoicedate\": \"2011-11-29\", \"mark\": 2720}, {\"invoicedate\": \"2011-11-3\", \"mark\": 1962}, {\"invoicedate\": \"2011-11-30\", \"mark\": 2120}, {\"invoicedate\": \"2011-11-4\", \"mark\": 2478}, {\"invoicedate\": \"2011-11-6\", \"mark\": 3423}, {\"invoicedate\": \"2011-11-7\", \"mark\": 1735}, {\"invoicedate\": \"2011-11-8\", \"mark\": 2310}, {\"invoicedate\": \"2011-11-9\", \"mark\": 2175}, {\"invoicedate\": \"2011-12-1\", \"mark\": 2140}, {\"invoicedate\": \"2011-12-2\", \"mark\": 1979}, {\"invoicedate\": \"2011-12-4\", \"mark\": 1941}, {\"invoicedate\": \"2011-12-5\", \"mark\": 3374}, {\"invoicedate\": \"2011-12-6\", \"mark\": 2554}, {\"invoicedate\": \"2011-12-7\", \"mark\": 2167}, {\"invoicedate\": \"2011-12-8\", \"mark\": 2532}, {\"invoicedate\": \"2011-12-9\", \"mark\": 617}, {\"invoicedate\": \"2011-2-1\", \"mark\": 1225}, {\"invoicedate\": \"2011-2-10\", \"mark\": 662}, {\"invoicedate\": \"2011-2-11\", \"mark\": 530}, {\"invoicedate\": \"2011-2-13\", \"mark\": 609}, {\"invoicedate\": \"2011-2-14\", \"mark\": 702}, {\"invoicedate\": \"2011-2-15\", \"mark\": 1042}, {\"invoicedate\": \"2011-2-16\", \"mark\": 1000}, {\"invoicedate\": \"2011-2-17\", \"mark\": 1060}, {\"invoicedate\": \"2011-2-18\", \"mark\": 601}, {\"invoicedate\": \"2011-2-2\", \"mark\": 996}, {\"invoicedate\": \"2011-2-20\", \"mark\": 859}, {\"invoicedate\": \"2011-2-21\", \"mark\": 952}, {\"invoicedate\": \"2011-2-22\", \"mark\": 1145}, {\"invoicedate\": \"2011-2-23\", \"mark\": 965}, {\"invoicedate\": \"2011-2-24\", \"mark\": 1109}, {\"invoicedate\": \"2011-2-25\", \"mark\": 811}, {\"invoicedate\": \"2011-2-27\", \"mark\": 810}, {\"invoicedate\": \"2011-2-28\", \"mark\": 981}, {\"invoicedate\": \"2011-2-3\", \"mark\": 849}, {\"invoicedate\": \"2011-2-4\", \"mark\": 731}, {\"invoicedate\": \"2011-2-6\", \"mark\": 279}, {\"invoicedate\": \"2011-2-7\", \"mark\": 954}, {\"invoicedate\": \"2011-2-8\", \"mark\": 617}, {\"invoicedate\": \"2011-2-9\", \"mark\": 439}, {\"invoicedate\": \"2011-3-1\", \"mark\": 1097}, {\"invoicedate\": \"2011-3-10\", \"mark\": 901}, {\"invoicedate\": \"2011-3-11\", \"mark\": 649}, {\"invoicedate\": \"2011-3-13\", \"mark\": 534}, {\"invoicedate\": \"2011-3-14\", \"mark\": 1088}, {\"invoicedate\": \"2011-3-15\", \"mark\": 845}, {\"invoicedate\": \"2011-3-16\", \"mark\": 845}, {\"invoicedate\": \"2011-3-17\", \"mark\": 1039}, {\"invoicedate\": \"2011-3-18\", \"mark\": 1020}, {\"invoicedate\": \"2011-3-2\", \"mark\": 890}, {\"invoicedate\": \"2011-3-20\", \"mark\": 1207}, {\"invoicedate\": \"2011-3-21\", \"mark\": 974}, {\"invoicedate\": \"2011-3-22\", \"mark\": 1227}, {\"invoicedate\": \"2011-3-23\", \"mark\": 1038}, {\"invoicedate\": \"2011-3-24\", \"mark\": 1544}, {\"invoicedate\": \"2011-3-25\", \"mark\": 985}, {\"invoicedate\": \"2011-3-27\", \"mark\": 714}, {\"invoicedate\": \"2011-3-28\", \"mark\": 1309}, {\"invoicedate\": \"2011-3-29\", \"mark\": 1052}, {\"invoicedate\": \"2011-3-3\", \"mark\": 919}, {\"invoicedate\": \"2011-3-30\", \"mark\": 1266}, {\"invoicedate\": \"2011-3-31\", \"mark\": 1019}, {\"invoicedate\": \"2011-3-4\", \"mark\": 886}, {\"invoicedate\": \"2011-3-6\", \"mark\": 821}, {\"invoicedate\": \"2011-3-7\", \"mark\": 1102}, {\"invoicedate\": \"2011-3-8\", \"mark\": 1188}, {\"invoicedate\": \"2011-3-9\", \"mark\": 1018}, {\"invoicedate\": \"2011-4-1\", \"mark\": 1123}, {\"invoicedate\": \"2011-4-10\", \"mark\": 933}, {\"invoicedate\": \"2011-4-11\", \"mark\": 1139}, {\"invoicedate\": \"2011-4-12\", \"mark\": 1077}, {\"invoicedate\": \"2011-4-13\", \"mark\": 1021}, {\"invoicedate\": \"2011-4-14\", \"mark\": 1478}, {\"invoicedate\": \"2011-4-15\", \"mark\": 781}, {\"invoicedate\": \"2011-4-17\", \"mark\": 966}, {\"invoicedate\": \"2011-4-18\", \"mark\": 1415}, {\"invoicedate\": \"2011-4-19\", \"mark\": 1185}, {\"invoicedate\": \"2011-4-20\", \"mark\": 911}, {\"invoicedate\": \"2011-4-21\", \"mark\": 1384}, {\"invoicedate\": \"2011-4-26\", \"mark\": 1210}, {\"invoicedate\": \"2011-4-27\", \"mark\": 1045}, {\"invoicedate\": \"2011-4-28\", \"mark\": 998}, {\"invoicedate\": \"2011-4-3\", \"mark\": 719}, {\"invoicedate\": \"2011-4-4\", \"mark\": 1201}, {\"invoicedate\": \"2011-4-5\", \"mark\": 937}, {\"invoicedate\": \"2011-4-6\", \"mark\": 799}, {\"invoicedate\": \"2011-4-7\", \"mark\": 1298}, {\"invoicedate\": \"2011-4-8\", \"mark\": 1024}, {\"invoicedate\": \"2011-5-1\", \"mark\": 448}, {\"invoicedate\": \"2011-5-10\", \"mark\": 1300}, {\"invoicedate\": \"2011-5-11\", \"mark\": 1463}, {\"invoicedate\": \"2011-5-12\", \"mark\": 1753}, {\"invoicedate\": \"2011-5-13\", \"mark\": 1107}, {\"invoicedate\": \"2011-5-15\", \"mark\": 763}, {\"invoicedate\": \"2011-5-16\", \"mark\": 1182}, {\"invoicedate\": \"2011-5-17\", \"mark\": 1299}, {\"invoicedate\": \"2011-5-18\", \"mark\": 1160}, {\"invoicedate\": \"2011-5-19\", \"mark\": 1522}, {\"invoicedate\": \"2011-5-20\", \"mark\": 957}, {\"invoicedate\": \"2011-5-22\", \"mark\": 1553}, {\"invoicedate\": \"2011-5-23\", \"mark\": 1285}, {\"invoicedate\": \"2011-5-24\", \"mark\": 1065}, {\"invoicedate\": \"2011-5-25\", \"mark\": 1005}, {\"invoicedate\": \"2011-5-26\", \"mark\": 885}, {\"invoicedate\": \"2011-5-27\", \"mark\": 842}, {\"invoicedate\": \"2011-5-29\", \"mark\": 630}, {\"invoicedate\": \"2011-5-3\", \"mark\": 984}, {\"invoicedate\": \"2011-5-31\", \"mark\": 909}, {\"invoicedate\": \"2011-5-4\", \"mark\": 1140}, {\"invoicedate\": \"2011-5-5\", \"mark\": 1209}, {\"invoicedate\": \"2011-5-6\", \"mark\": 1304}, {\"invoicedate\": \"2011-5-8\", \"mark\": 1500}, {\"invoicedate\": \"2011-5-9\", \"mark\": 1057}, {\"invoicedate\": \"2011-6-1\", \"mark\": 701}, {\"invoicedate\": \"2011-6-10\", \"mark\": 692}, {\"invoicedate\": \"2011-6-12\", \"mark\": 1066}, {\"invoicedate\": \"2011-6-13\", \"mark\": 1125}, {\"invoicedate\": \"2011-6-14\", \"mark\": 1020}, {\"invoicedate\": \"2011-6-15\", \"mark\": 1289}, {\"invoicedate\": \"2011-6-16\", \"mark\": 1259}, {\"invoicedate\": \"2011-6-17\", \"mark\": 857}, {\"invoicedate\": \"2011-6-19\", \"mark\": 1157}, {\"invoicedate\": \"2011-6-2\", \"mark\": 1032}, {\"invoicedate\": \"2011-6-20\", \"mark\": 1164}, {\"invoicedate\": \"2011-6-21\", \"mark\": 982}, {\"invoicedate\": \"2011-6-22\", \"mark\": 986}, {\"invoicedate\": \"2011-6-23\", \"mark\": 1576}, {\"invoicedate\": \"2011-6-24\", \"mark\": 730}, {\"invoicedate\": \"2011-6-26\", \"mark\": 667}, {\"invoicedate\": \"2011-6-27\", \"mark\": 786}, {\"invoicedate\": \"2011-6-28\", \"mark\": 787}, {\"invoicedate\": \"2011-6-29\", \"mark\": 556}, {\"invoicedate\": \"2011-6-3\", \"mark\": 650}, {\"invoicedate\": \"2011-6-30\", \"mark\": 1192}, {\"invoicedate\": \"2011-6-5\", \"mark\": 1555}, {\"invoicedate\": \"2011-6-6\", \"mark\": 1040}, {\"invoicedate\": \"2011-6-7\", \"mark\": 1454}, {\"invoicedate\": \"2011-6-8\", \"mark\": 1465}, {\"invoicedate\": \"2011-6-9\", \"mark\": 1397}, {\"invoicedate\": \"2011-7-1\", \"mark\": 834}, {\"invoicedate\": \"2011-7-10\", \"mark\": 815}, {\"invoicedate\": \"2011-7-11\", \"mark\": 1069}, {\"invoicedate\": \"2011-7-12\", \"mark\": 743}, {\"invoicedate\": \"2011-7-13\", \"mark\": 1206}, {\"invoicedate\": \"2011-7-14\", \"mark\": 1396}, {\"invoicedate\": \"2011-7-15\", \"mark\": 724}, {\"invoicedate\": \"2011-7-17\", \"mark\": 1194}, {\"invoicedate\": \"2011-7-18\", \"mark\": 1176}, {\"invoicedate\": \"2011-7-19\", \"mark\": 1488}, {\"invoicedate\": \"2011-7-20\", \"mark\": 1205}, {\"invoicedate\": \"2011-7-21\", \"mark\": 1314}, {\"invoicedate\": \"2011-7-22\", \"mark\": 751}, {\"invoicedate\": \"2011-7-24\", \"mark\": 1068}, {\"invoicedate\": \"2011-7-25\", \"mark\": 1065}, {\"invoicedate\": \"2011-7-26\", \"mark\": 843}, {\"invoicedate\": \"2011-7-27\", \"mark\": 842}, {\"invoicedate\": \"2011-7-28\", \"mark\": 1301}, {\"invoicedate\": \"2011-7-29\", \"mark\": 940}, {\"invoicedate\": \"2011-7-3\", \"mark\": 598}, {\"invoicedate\": \"2011-7-31\", \"mark\": 1261}, {\"invoicedate\": \"2011-7-4\", \"mark\": 930}, {\"invoicedate\": \"2011-7-5\", \"mark\": 800}, {\"invoicedate\": \"2011-7-6\", \"mark\": 1232}, {\"invoicedate\": \"2011-7-7\", \"mark\": 1248}, {\"invoicedate\": \"2011-7-8\", \"mark\": 784}, {\"invoicedate\": \"2011-8-1\", \"mark\": 1000}, {\"invoicedate\": \"2011-8-10\", \"mark\": 738}, {\"invoicedate\": \"2011-8-11\", \"mark\": 1420}, {\"invoicedate\": \"2011-8-12\", \"mark\": 701}, {\"invoicedate\": \"2011-8-14\", \"mark\": 538}, {\"invoicedate\": \"2011-8-15\", \"mark\": 917}, {\"invoicedate\": \"2011-8-16\", \"mark\": 938}, {\"invoicedate\": \"2011-8-17\", \"mark\": 1437}, {\"invoicedate\": \"2011-8-18\", \"mark\": 1478}, {\"invoicedate\": \"2011-8-19\", \"mark\": 810}, {\"invoicedate\": \"2011-8-2\", \"mark\": 913}, {\"invoicedate\": \"2011-8-21\", \"mark\": 1059}, {\"invoicedate\": \"2011-8-22\", \"mark\": 1261}, {\"invoicedate\": \"2011-8-23\", \"mark\": 1344}, {\"invoicedate\": \"2011-8-24\", \"mark\": 1527}, {\"invoicedate\": \"2011-8-25\", \"mark\": 1188}, {\"invoicedate\": \"2011-8-26\", \"mark\": 864}, {\"invoicedate\": \"2011-8-28\", \"mark\": 1196}, {\"invoicedate\": \"2011-8-3\", \"mark\": 1336}, {\"invoicedate\": \"2011-8-30\", \"mark\": 389}, {\"invoicedate\": \"2011-8-31\", \"mark\": 755}, {\"invoicedate\": \"2011-8-4\", \"mark\": 1457}, {\"invoicedate\": \"2011-8-5\", \"mark\": 1251}, {\"invoicedate\": \"2011-8-7\", \"mark\": 528}, {\"invoicedate\": \"2011-8-8\", \"mark\": 1087}, {\"invoicedate\": \"2011-8-9\", \"mark\": 881}, {\"invoicedate\": \"2011-9-1\", \"mark\": 1398}, {\"invoicedate\": \"2011-9-11\", \"mark\": 2027}, {\"invoicedate\": \"2011-9-12\", \"mark\": 1444}, {\"invoicedate\": \"2011-9-13\", \"mark\": 1893}, {\"invoicedate\": \"2011-9-14\", \"mark\": 1133}, {\"invoicedate\": \"2011-9-15\", \"mark\": 1598}, {\"invoicedate\": \"2011-9-16\", \"mark\": 1243}, {\"invoicedate\": \"2011-9-18\", \"mark\": 1272}, {\"invoicedate\": \"2011-9-19\", \"mark\": 1377}, {\"invoicedate\": \"2011-9-2\", \"mark\": 1112}, {\"invoicedate\": \"2011-9-20\", \"mark\": 1448}, {\"invoicedate\": \"2011-9-21\", \"mark\": 1693}, {\"invoicedate\": \"2011-9-22\", \"mark\": 2444}, {\"invoicedate\": \"2011-9-23\", \"mark\": 1883}, {\"invoicedate\": \"2011-9-25\", \"mark\": 1981}, {\"invoicedate\": \"2011-9-26\", \"mark\": 1523}, {\"invoicedate\": \"2011-9-27\", \"mark\": 1374}, {\"invoicedate\": \"2011-9-28\", \"mark\": 2114}, {\"invoicedate\": \"2011-9-29\", \"mark\": 2239}, {\"invoicedate\": \"2011-9-30\", \"mark\": 1453}, {\"invoicedate\": \"2011-9-4\", \"mark\": 1311}, {\"invoicedate\": \"2011-9-5\", \"mark\": 1373}, {\"invoicedate\": \"2011-9-6\", \"mark\": 1043}, {\"invoicedate\": \"2011-9-7\", \"mark\": 980}, {\"invoicedate\": \"2011-9-8\", \"mark\": 1399}, {\"invoicedate\": \"2011-9-9\", \"mark\": 1275}]}};\n",
       "var opt = {};\n",
       "var type = \"vega-lite\";\n",
       "var id = \"498f6b45-206e-46ad-90cc-ec64172aabc5\";\n",
       "\n",
       "var output_area = this;\n",
       "\n",
       "require([\"nbextensions/jupyter-vega/index\"], function(vega) {\n",
       "  var target = document.createElement(\"div\");\n",
       "  target.id = id;\n",
       "  target.className = \"vega-embed\";\n",
       "\n",
       "  var style = document.createElement(\"style\");\n",
       "  style.textContent = [\n",
       "    \".vega-embed .error p {\",\n",
       "    \"  color: firebrick;\",\n",
       "    \"  font-size: 14px;\",\n",
       "    \"}\",\n",
       "  ].join(\"\\\\n\");\n",
       "\n",
       "  // element is a jQuery wrapped DOM element inside the output area\n",
       "  // see http://ipython.readthedocs.io/en/stable/api/generated/\\\n",
       "  // IPython.display.html#IPython.display.Javascript.__init__\n",
       "  element[0].appendChild(target);\n",
       "  element[0].appendChild(style);\n",
       "\n",
       "  vega.render(\"#\" + id, spec, type, opt, output_area);\n",
       "}, function (err) {\n",
       "  if (err.requireType !== \"scripterror\") {\n",
       "    throw(err);\n",
       "  }\n",
       "});\n"
      ],
      "text/plain": [
       "<vega.vegalite.VegaLite at 0x7fb27fea76d8>"
      ]
     },
     "metadata": {
      "jupyter-vega": "#498f6b45-206e-46ad-90cc-ec64172aabc5"
     },
     "output_type": "display_data"
    },
    {
     "data": {
      "text/plain": []
     },
     "execution_count": 63,
     "metadata": {},
     "output_type": "execute_result"
    },
    {
     "data": {
      "image/png": "[encoded data removed]"
     },
     "metadata": {
      "jupyter-vega": "#498f6b45-206e-46ad-90cc-ec64172aabc5"
     },
     "output_type": "display_data"
    }
   ],
   "source": [
    "dayheatmap(timeDF,\"invoicedate\")"
   ]
  },
  {
   "cell_type": "markdown",
   "metadata": {},
   "source": [
    "## View all Data Frames Example:\n",
    "\n",
    "Often times, our data set consists of an unzipped folder with many CSV files. The *headtailcsv()* takes a path as an argument, and auto-detects all CSVs in the given directory. For each dataframe, it pulls the head, tail, and samples random rows from the interior of the dataframe, and display()'s the sample of the dataframe to console. This allows a user to quickly inspect all the data very quickly, in one shot. "
   ]
  },
  {
   "cell_type": "code",
   "execution_count": 16,
   "metadata": {},
   "outputs": [],
   "source": [
    "import os\n",
    "\n",
    "#Signature: String, Integer -> NoneType\n",
    "#Purpose: Grab every csv dataframe in a directory, and give a summary output of it for user.\n",
    "#Defaults: Path=PWD, n=5. n specifies how many rows in the head/tail/body sections to sample.\n",
    "def headtailcsvs(path=\".\",n=5):\n",
    "    if not isinstance(path,str):\n",
    "        raise ValueError(\"ERROR: path is not a string.\")\n",
    "    if not int(n) == n or n < 1:\n",
    "        raise ValueError(\"ERROR: n is not an integer or < 1.\")\n",
    "    if (not os.path.exists(path)):\n",
    "        raise ValueError(\"ERROR: path does not exist.\")\n",
    "    if (path[-1:] == \"/\" ): #I assume no trailing slash. If user added it, remove.\n",
    "        path = path[:len(path) - 1]\n",
    "     \n",
    "    dirList = os.listdir(path)\n",
    "    #Not efficient, but does the job. ¯\\_(ツ)_/¯ Do FunProg tricks later.\n",
    "    keepList = []\n",
    "    for item in dirList:\n",
    "        if item[-3:] == \"csv\":\n",
    "            keepList.append(item)\n",
    "    \n",
    "    for item in keepList:\n",
    "        currDF = pd.read_csv(path + \"/\" + item)\n",
    "        if (currDF.shape[0] < 3*n):\n",
    "            raise ValueError(\"ERROR: Can't sample csv file: \" + item +\". Rows < 3*n.\")\n",
    "        \n",
    "        rowLen = currDF.shape[0]\n",
    "        frames = [currDF.head(n),currDF.iloc[n:(rowLen - n)].sample(n).sort_index(axis=0),currDF.tail(n)]\n",
    "        display(item)\n",
    "        display(pd.concat(frames))\n",
    "            \n",
    "    return None"
   ]
  },
  {
   "cell_type": "code",
   "execution_count": 18,
   "metadata": {},
   "outputs": [
    {
     "name": "stdout",
     "output_type": "stream",
     "text": [
      "27\n"
     ]
    },
    {
     "data": {
      "text/plain": [
       "'transaction_data.csv'"
      ]
     },
     "metadata": {},
     "output_type": "display_data"
    },
    {
     "data": {
      "text/html": [
       "<div>\n",
       "<style scoped>\n",
       "    .dataframe tbody tr th:only-of-type {\n",
       "        vertical-align: middle;\n",
       "    }\n",
       "\n",
       "    .dataframe tbody tr th {\n",
       "        vertical-align: top;\n",
       "    }\n",
       "\n",
       "    .dataframe thead th {\n",
       "        text-align: right;\n",
       "    }\n",
       "</style>\n",
       "<table border=\"1\" class=\"dataframe\">\n",
       "  <thead>\n",
       "    <tr style=\"text-align: right;\">\n",
       "      <th></th>\n",
       "      <th>household_key</th>\n",
       "      <th>BASKET_ID</th>\n",
       "      <th>DAY</th>\n",
       "      <th>PRODUCT_ID</th>\n",
       "      <th>QUANTITY</th>\n",
       "      <th>SALES_VALUE</th>\n",
       "      <th>STORE_ID</th>\n",
       "      <th>RETAIL_DISC</th>\n",
       "      <th>TRANS_TIME</th>\n",
       "      <th>WEEK_NO</th>\n",
       "      <th>COUPON_DISC</th>\n",
       "      <th>COUPON_MATCH_DISC</th>\n",
       "    </tr>\n",
       "  </thead>\n",
       "  <tbody>\n",
       "    <tr>\n",
       "      <th>0</th>\n",
       "      <td>2375</td>\n",
       "      <td>26984851472</td>\n",
       "      <td>1</td>\n",
       "      <td>1004906</td>\n",
       "      <td>1</td>\n",
       "      <td>1.39</td>\n",
       "      <td>364</td>\n",
       "      <td>-0.60</td>\n",
       "      <td>1631</td>\n",
       "      <td>1</td>\n",
       "      <td>0</td>\n",
       "      <td>0</td>\n",
       "    </tr>\n",
       "    <tr>\n",
       "      <th>1</th>\n",
       "      <td>2375</td>\n",
       "      <td>26984851472</td>\n",
       "      <td>1</td>\n",
       "      <td>1033142</td>\n",
       "      <td>1</td>\n",
       "      <td>0.82</td>\n",
       "      <td>364</td>\n",
       "      <td>0.00</td>\n",
       "      <td>1631</td>\n",
       "      <td>1</td>\n",
       "      <td>0</td>\n",
       "      <td>0</td>\n",
       "    </tr>\n",
       "    <tr>\n",
       "      <th>11</th>\n",
       "      <td>1364</td>\n",
       "      <td>26984896261</td>\n",
       "      <td>1</td>\n",
       "      <td>842930</td>\n",
       "      <td>1</td>\n",
       "      <td>2.19</td>\n",
       "      <td>31742</td>\n",
       "      <td>0.00</td>\n",
       "      <td>1520</td>\n",
       "      <td>1</td>\n",
       "      <td>0</td>\n",
       "      <td>0</td>\n",
       "    </tr>\n",
       "    <tr>\n",
       "      <th>21</th>\n",
       "      <td>1173</td>\n",
       "      <td>26984945254</td>\n",
       "      <td>1</td>\n",
       "      <td>824399</td>\n",
       "      <td>2</td>\n",
       "      <td>1.98</td>\n",
       "      <td>412</td>\n",
       "      <td>0.00</td>\n",
       "      <td>2042</td>\n",
       "      <td>1</td>\n",
       "      <td>0</td>\n",
       "      <td>0</td>\n",
       "    </tr>\n",
       "    <tr>\n",
       "      <th>25</th>\n",
       "      <td>98</td>\n",
       "      <td>26984951769</td>\n",
       "      <td>1</td>\n",
       "      <td>965138</td>\n",
       "      <td>2</td>\n",
       "      <td>3.00</td>\n",
       "      <td>337</td>\n",
       "      <td>-0.08</td>\n",
       "      <td>1937</td>\n",
       "      <td>1</td>\n",
       "      <td>0</td>\n",
       "      <td>0</td>\n",
       "    </tr>\n",
       "    <tr>\n",
       "      <th>26</th>\n",
       "      <td>98</td>\n",
       "      <td>26984951769</td>\n",
       "      <td>1</td>\n",
       "      <td>985911</td>\n",
       "      <td>1</td>\n",
       "      <td>1.25</td>\n",
       "      <td>337</td>\n",
       "      <td>-0.34</td>\n",
       "      <td>1937</td>\n",
       "      <td>1</td>\n",
       "      <td>0</td>\n",
       "      <td>0</td>\n",
       "    </tr>\n",
       "  </tbody>\n",
       "</table>\n",
       "</div>"
      ],
      "text/plain": [
       "    household_key    BASKET_ID  DAY  PRODUCT_ID  QUANTITY  SALES_VALUE  STORE_ID  RETAIL_DISC  TRANS_TIME  WEEK_NO  COUPON_DISC  COUPON_MATCH_DISC\n",
       "0            2375  26984851472    1     1004906         1         1.39       364        -0.60        1631        1            0                  0\n",
       "1            2375  26984851472    1     1033142         1         0.82       364         0.00        1631        1            0                  0\n",
       "11           1364  26984896261    1      842930         1         2.19     31742         0.00        1520        1            0                  0\n",
       "21           1173  26984945254    1      824399         2         1.98       412         0.00        2042        1            0                  0\n",
       "25             98  26984951769    1      965138         2         3.00       337        -0.08        1937        1            0                  0\n",
       "26             98  26984951769    1      985911         1         1.25       337        -0.34        1937        1            0                  0"
      ]
     },
     "metadata": {},
     "output_type": "display_data"
    },
    {
     "name": "stdout",
     "output_type": "stream",
     "text": [
      "27\n"
     ]
    },
    {
     "data": {
      "text/plain": [
       "'coupon.csv'"
      ]
     },
     "metadata": {},
     "output_type": "display_data"
    },
    {
     "data": {
      "text/html": [
       "<div>\n",
       "<style scoped>\n",
       "    .dataframe tbody tr th:only-of-type {\n",
       "        vertical-align: middle;\n",
       "    }\n",
       "\n",
       "    .dataframe tbody tr th {\n",
       "        vertical-align: top;\n",
       "    }\n",
       "\n",
       "    .dataframe thead th {\n",
       "        text-align: right;\n",
       "    }\n",
       "</style>\n",
       "<table border=\"1\" class=\"dataframe\">\n",
       "  <thead>\n",
       "    <tr style=\"text-align: right;\">\n",
       "      <th></th>\n",
       "      <th>COUPON_UPC</th>\n",
       "      <th>PRODUCT_ID</th>\n",
       "      <th>CAMPAIGN</th>\n",
       "    </tr>\n",
       "  </thead>\n",
       "  <tbody>\n",
       "    <tr>\n",
       "      <th>0</th>\n",
       "      <td>10000089061</td>\n",
       "      <td>27160</td>\n",
       "      <td>4</td>\n",
       "    </tr>\n",
       "    <tr>\n",
       "      <th>1</th>\n",
       "      <td>10000089064</td>\n",
       "      <td>27754</td>\n",
       "      <td>9</td>\n",
       "    </tr>\n",
       "    <tr>\n",
       "      <th>10</th>\n",
       "      <td>52100000031</td>\n",
       "      <td>29096</td>\n",
       "      <td>22</td>\n",
       "    </tr>\n",
       "    <tr>\n",
       "      <th>20</th>\n",
       "      <td>51600070033</td>\n",
       "      <td>30699</td>\n",
       "      <td>9</td>\n",
       "    </tr>\n",
       "    <tr>\n",
       "      <th>25</th>\n",
       "      <td>51200000009</td>\n",
       "      <td>32124</td>\n",
       "      <td>25</td>\n",
       "    </tr>\n",
       "    <tr>\n",
       "      <th>26</th>\n",
       "      <td>51800000050</td>\n",
       "      <td>32272</td>\n",
       "      <td>12</td>\n",
       "    </tr>\n",
       "  </tbody>\n",
       "</table>\n",
       "</div>"
      ],
      "text/plain": [
       "     COUPON_UPC  PRODUCT_ID  CAMPAIGN\n",
       "0   10000089061       27160         4\n",
       "1   10000089064       27754         9\n",
       "10  52100000031       29096        22\n",
       "20  51600070033       30699         9\n",
       "25  51200000009       32124        25\n",
       "26  51800000050       32272        12"
      ]
     },
     "metadata": {},
     "output_type": "display_data"
    },
    {
     "name": "stdout",
     "output_type": "stream",
     "text": [
      "27\n"
     ]
    },
    {
     "data": {
      "text/plain": [
       "'product.csv'"
      ]
     },
     "metadata": {},
     "output_type": "display_data"
    },
    {
     "data": {
      "text/html": [
       "<div>\n",
       "<style scoped>\n",
       "    .dataframe tbody tr th:only-of-type {\n",
       "        vertical-align: middle;\n",
       "    }\n",
       "\n",
       "    .dataframe tbody tr th {\n",
       "        vertical-align: top;\n",
       "    }\n",
       "\n",
       "    .dataframe thead th {\n",
       "        text-align: right;\n",
       "    }\n",
       "</style>\n",
       "<table border=\"1\" class=\"dataframe\">\n",
       "  <thead>\n",
       "    <tr style=\"text-align: right;\">\n",
       "      <th></th>\n",
       "      <th>PRODUCT_ID</th>\n",
       "      <th>MANUFACTURER</th>\n",
       "      <th>DEPARTMENT</th>\n",
       "      <th>BRAND</th>\n",
       "      <th>COMMODITY_DESC</th>\n",
       "      <th>SUB_COMMODITY_DESC</th>\n",
       "      <th>CURR_SIZE_OF_PRODUCT</th>\n",
       "    </tr>\n",
       "  </thead>\n",
       "  <tbody>\n",
       "    <tr>\n",
       "      <th>0</th>\n",
       "      <td>25671</td>\n",
       "      <td>2</td>\n",
       "      <td>GROCERY</td>\n",
       "      <td>National</td>\n",
       "      <td>FRZN ICE</td>\n",
       "      <td>ICE - CRUSHED/CUBED</td>\n",
       "      <td>22 LB</td>\n",
       "    </tr>\n",
       "    <tr>\n",
       "      <th>1</th>\n",
       "      <td>26081</td>\n",
       "      <td>2</td>\n",
       "      <td>MISC. TRANS.</td>\n",
       "      <td>National</td>\n",
       "      <td>NO COMMODITY DESCRIPTION</td>\n",
       "      <td>NO SUBCOMMODITY DESCRIPTION</td>\n",
       "      <td></td>\n",
       "    </tr>\n",
       "    <tr>\n",
       "      <th>14</th>\n",
       "      <td>27030</td>\n",
       "      <td>69</td>\n",
       "      <td>GROCERY</td>\n",
       "      <td>Private</td>\n",
       "      <td>ICE CREAM/MILK/SHERBTS</td>\n",
       "      <td>TRADITIONAL</td>\n",
       "      <td>56 OZ</td>\n",
       "    </tr>\n",
       "    <tr>\n",
       "      <th>17</th>\n",
       "      <td>27159</td>\n",
       "      <td>69</td>\n",
       "      <td>GROCERY</td>\n",
       "      <td>Private</td>\n",
       "      <td>CHEESE</td>\n",
       "      <td>STRING CHEESE</td>\n",
       "      <td>1 OZ</td>\n",
       "    </tr>\n",
       "    <tr>\n",
       "      <th>25</th>\n",
       "      <td>27503</td>\n",
       "      <td>69</td>\n",
       "      <td>GROCERY</td>\n",
       "      <td>Private</td>\n",
       "      <td>FRUIT - SHELF STABLE</td>\n",
       "      <td>CRANBERRY SAUCE</td>\n",
       "      <td>16 OZ</td>\n",
       "    </tr>\n",
       "    <tr>\n",
       "      <th>26</th>\n",
       "      <td>27509</td>\n",
       "      <td>69</td>\n",
       "      <td>GROCERY</td>\n",
       "      <td>Private</td>\n",
       "      <td>BAKED BREAD/BUNS/ROLLS</td>\n",
       "      <td>MAINSTREAM WHITE BREAD</td>\n",
       "      <td>20 OZ</td>\n",
       "    </tr>\n",
       "  </tbody>\n",
       "</table>\n",
       "</div>"
      ],
      "text/plain": [
       "    PRODUCT_ID  MANUFACTURER    DEPARTMENT     BRAND            COMMODITY_DESC           SUB_COMMODITY_DESC CURR_SIZE_OF_PRODUCT\n",
       "0        25671             2       GROCERY  National                  FRZN ICE          ICE - CRUSHED/CUBED                22 LB\n",
       "1        26081             2  MISC. TRANS.  National  NO COMMODITY DESCRIPTION  NO SUBCOMMODITY DESCRIPTION                     \n",
       "14       27030            69       GROCERY   Private    ICE CREAM/MILK/SHERBTS                  TRADITIONAL                56 OZ\n",
       "17       27159            69       GROCERY   Private                    CHEESE                STRING CHEESE                 1 OZ\n",
       "25       27503            69       GROCERY   Private      FRUIT - SHELF STABLE              CRANBERRY SAUCE                16 OZ\n",
       "26       27509            69       GROCERY   Private    BAKED BREAD/BUNS/ROLLS       MAINSTREAM WHITE BREAD                20 OZ"
      ]
     },
     "metadata": {},
     "output_type": "display_data"
    },
    {
     "name": "stdout",
     "output_type": "stream",
     "text": [
      "27\n"
     ]
    },
    {
     "data": {
      "text/plain": [
       "'campaign_table.csv'"
      ]
     },
     "metadata": {},
     "output_type": "display_data"
    },
    {
     "data": {
      "text/html": [
       "<div>\n",
       "<style scoped>\n",
       "    .dataframe tbody tr th:only-of-type {\n",
       "        vertical-align: middle;\n",
       "    }\n",
       "\n",
       "    .dataframe tbody tr th {\n",
       "        vertical-align: top;\n",
       "    }\n",
       "\n",
       "    .dataframe thead th {\n",
       "        text-align: right;\n",
       "    }\n",
       "</style>\n",
       "<table border=\"1\" class=\"dataframe\">\n",
       "  <thead>\n",
       "    <tr style=\"text-align: right;\">\n",
       "      <th></th>\n",
       "      <th>DESCRIPTION</th>\n",
       "      <th>household_key</th>\n",
       "      <th>CAMPAIGN</th>\n",
       "    </tr>\n",
       "  </thead>\n",
       "  <tbody>\n",
       "    <tr>\n",
       "      <th>0</th>\n",
       "      <td>TypeA</td>\n",
       "      <td>17</td>\n",
       "      <td>26</td>\n",
       "    </tr>\n",
       "    <tr>\n",
       "      <th>1</th>\n",
       "      <td>TypeA</td>\n",
       "      <td>27</td>\n",
       "      <td>26</td>\n",
       "    </tr>\n",
       "    <tr>\n",
       "      <th>2</th>\n",
       "      <td>TypeA</td>\n",
       "      <td>212</td>\n",
       "      <td>26</td>\n",
       "    </tr>\n",
       "    <tr>\n",
       "      <th>6</th>\n",
       "      <td>TypeA</td>\n",
       "      <td>183</td>\n",
       "      <td>26</td>\n",
       "    </tr>\n",
       "    <tr>\n",
       "      <th>25</th>\n",
       "      <td>TypeA</td>\n",
       "      <td>2384</td>\n",
       "      <td>26</td>\n",
       "    </tr>\n",
       "    <tr>\n",
       "      <th>26</th>\n",
       "      <td>TypeA</td>\n",
       "      <td>2371</td>\n",
       "      <td>26</td>\n",
       "    </tr>\n",
       "  </tbody>\n",
       "</table>\n",
       "</div>"
      ],
      "text/plain": [
       "   DESCRIPTION  household_key  CAMPAIGN\n",
       "0        TypeA             17        26\n",
       "1        TypeA             27        26\n",
       "2        TypeA            212        26\n",
       "6        TypeA            183        26\n",
       "25       TypeA           2384        26\n",
       "26       TypeA           2371        26"
      ]
     },
     "metadata": {},
     "output_type": "display_data"
    },
    {
     "name": "stdout",
     "output_type": "stream",
     "text": [
      "27\n"
     ]
    },
    {
     "data": {
      "text/plain": [
       "'hh_demographic.csv'"
      ]
     },
     "metadata": {},
     "output_type": "display_data"
    },
    {
     "data": {
      "text/html": [
       "<div>\n",
       "<style scoped>\n",
       "    .dataframe tbody tr th:only-of-type {\n",
       "        vertical-align: middle;\n",
       "    }\n",
       "\n",
       "    .dataframe tbody tr th {\n",
       "        vertical-align: top;\n",
       "    }\n",
       "\n",
       "    .dataframe thead th {\n",
       "        text-align: right;\n",
       "    }\n",
       "</style>\n",
       "<table border=\"1\" class=\"dataframe\">\n",
       "  <thead>\n",
       "    <tr style=\"text-align: right;\">\n",
       "      <th></th>\n",
       "      <th>AGE_DESC</th>\n",
       "      <th>MARITAL_STATUS_CODE</th>\n",
       "      <th>INCOME_DESC</th>\n",
       "      <th>HOMEOWNER_DESC</th>\n",
       "      <th>HH_COMP_DESC</th>\n",
       "      <th>HOUSEHOLD_SIZE_DESC</th>\n",
       "      <th>KID_CATEGORY_DESC</th>\n",
       "      <th>household_key</th>\n",
       "    </tr>\n",
       "  </thead>\n",
       "  <tbody>\n",
       "    <tr>\n",
       "      <th>0</th>\n",
       "      <td>65+</td>\n",
       "      <td>A</td>\n",
       "      <td>35-49K</td>\n",
       "      <td>Homeowner</td>\n",
       "      <td>2 Adults No Kids</td>\n",
       "      <td>2</td>\n",
       "      <td>None/Unknown</td>\n",
       "      <td>1</td>\n",
       "    </tr>\n",
       "    <tr>\n",
       "      <th>1</th>\n",
       "      <td>45-54</td>\n",
       "      <td>A</td>\n",
       "      <td>50-74K</td>\n",
       "      <td>Homeowner</td>\n",
       "      <td>2 Adults No Kids</td>\n",
       "      <td>2</td>\n",
       "      <td>None/Unknown</td>\n",
       "      <td>7</td>\n",
       "    </tr>\n",
       "    <tr>\n",
       "      <th>2</th>\n",
       "      <td>25-34</td>\n",
       "      <td>U</td>\n",
       "      <td>25-34K</td>\n",
       "      <td>Unknown</td>\n",
       "      <td>2 Adults Kids</td>\n",
       "      <td>3</td>\n",
       "      <td>1</td>\n",
       "      <td>8</td>\n",
       "    </tr>\n",
       "    <tr>\n",
       "      <th>6</th>\n",
       "      <td>45-54</td>\n",
       "      <td>A</td>\n",
       "      <td>100-124K</td>\n",
       "      <td>Homeowner</td>\n",
       "      <td>2 Adults No Kids</td>\n",
       "      <td>2</td>\n",
       "      <td>None/Unknown</td>\n",
       "      <td>18</td>\n",
       "    </tr>\n",
       "    <tr>\n",
       "      <th>25</th>\n",
       "      <td>45-54</td>\n",
       "      <td>A</td>\n",
       "      <td>Under 15K</td>\n",
       "      <td>Homeowner</td>\n",
       "      <td>2 Adults Kids</td>\n",
       "      <td>5+</td>\n",
       "      <td>3+</td>\n",
       "      <td>67</td>\n",
       "    </tr>\n",
       "    <tr>\n",
       "      <th>26</th>\n",
       "      <td>35-44</td>\n",
       "      <td>A</td>\n",
       "      <td>25-34K</td>\n",
       "      <td>Homeowner</td>\n",
       "      <td>Single Female</td>\n",
       "      <td>2</td>\n",
       "      <td>None/Unknown</td>\n",
       "      <td>71</td>\n",
       "    </tr>\n",
       "  </tbody>\n",
       "</table>\n",
       "</div>"
      ],
      "text/plain": [
       "   AGE_DESC MARITAL_STATUS_CODE INCOME_DESC HOMEOWNER_DESC      HH_COMP_DESC HOUSEHOLD_SIZE_DESC KID_CATEGORY_DESC  household_key\n",
       "0       65+                   A      35-49K      Homeowner  2 Adults No Kids                   2      None/Unknown              1\n",
       "1     45-54                   A      50-74K      Homeowner  2 Adults No Kids                   2      None/Unknown              7\n",
       "2     25-34                   U      25-34K        Unknown     2 Adults Kids                   3                 1              8\n",
       "6     45-54                   A    100-124K      Homeowner  2 Adults No Kids                   2      None/Unknown             18\n",
       "25    45-54                   A   Under 15K      Homeowner     2 Adults Kids                  5+                3+             67\n",
       "26    35-44                   A      25-34K      Homeowner     Single Female                   2      None/Unknown             71"
      ]
     },
     "metadata": {},
     "output_type": "display_data"
    },
    {
     "name": "stdout",
     "output_type": "stream",
     "text": [
      "27\n"
     ]
    },
    {
     "data": {
      "text/plain": [
       "'coupon_redempt.csv'"
      ]
     },
     "metadata": {},
     "output_type": "display_data"
    },
    {
     "data": {
      "text/html": [
       "<div>\n",
       "<style scoped>\n",
       "    .dataframe tbody tr th:only-of-type {\n",
       "        vertical-align: middle;\n",
       "    }\n",
       "\n",
       "    .dataframe tbody tr th {\n",
       "        vertical-align: top;\n",
       "    }\n",
       "\n",
       "    .dataframe thead th {\n",
       "        text-align: right;\n",
       "    }\n",
       "</style>\n",
       "<table border=\"1\" class=\"dataframe\">\n",
       "  <thead>\n",
       "    <tr style=\"text-align: right;\">\n",
       "      <th></th>\n",
       "      <th>household_key</th>\n",
       "      <th>DAY</th>\n",
       "      <th>COUPON_UPC</th>\n",
       "      <th>CAMPAIGN</th>\n",
       "    </tr>\n",
       "  </thead>\n",
       "  <tbody>\n",
       "    <tr>\n",
       "      <th>0</th>\n",
       "      <td>1</td>\n",
       "      <td>421</td>\n",
       "      <td>10000085364</td>\n",
       "      <td>8</td>\n",
       "    </tr>\n",
       "    <tr>\n",
       "      <th>1</th>\n",
       "      <td>1</td>\n",
       "      <td>421</td>\n",
       "      <td>51700010076</td>\n",
       "      <td>8</td>\n",
       "    </tr>\n",
       "    <tr>\n",
       "      <th>11</th>\n",
       "      <td>13</td>\n",
       "      <td>494</td>\n",
       "      <td>53600000082</td>\n",
       "      <td>10</td>\n",
       "    </tr>\n",
       "    <tr>\n",
       "      <th>17</th>\n",
       "      <td>13</td>\n",
       "      <td>609</td>\n",
       "      <td>10000089277</td>\n",
       "      <td>18</td>\n",
       "    </tr>\n",
       "    <tr>\n",
       "      <th>25</th>\n",
       "      <td>13</td>\n",
       "      <td>647</td>\n",
       "      <td>54400021032</td>\n",
       "      <td>22</td>\n",
       "    </tr>\n",
       "    <tr>\n",
       "      <th>26</th>\n",
       "      <td>13</td>\n",
       "      <td>651</td>\n",
       "      <td>51800000050</td>\n",
       "      <td>22</td>\n",
       "    </tr>\n",
       "  </tbody>\n",
       "</table>\n",
       "</div>"
      ],
      "text/plain": [
       "    household_key  DAY   COUPON_UPC  CAMPAIGN\n",
       "0               1  421  10000085364         8\n",
       "1               1  421  51700010076         8\n",
       "11             13  494  53600000082        10\n",
       "17             13  609  10000089277        18\n",
       "25             13  647  54400021032        22\n",
       "26             13  651  51800000050        22"
      ]
     },
     "metadata": {},
     "output_type": "display_data"
    },
    {
     "name": "stdout",
     "output_type": "stream",
     "text": [
      "27\n"
     ]
    },
    {
     "data": {
      "text/plain": [
       "'campaign_desc.csv'"
      ]
     },
     "metadata": {},
     "output_type": "display_data"
    },
    {
     "data": {
      "text/html": [
       "<div>\n",
       "<style scoped>\n",
       "    .dataframe tbody tr th:only-of-type {\n",
       "        vertical-align: middle;\n",
       "    }\n",
       "\n",
       "    .dataframe tbody tr th {\n",
       "        vertical-align: top;\n",
       "    }\n",
       "\n",
       "    .dataframe thead th {\n",
       "        text-align: right;\n",
       "    }\n",
       "</style>\n",
       "<table border=\"1\" class=\"dataframe\">\n",
       "  <thead>\n",
       "    <tr style=\"text-align: right;\">\n",
       "      <th></th>\n",
       "      <th>DESCRIPTION</th>\n",
       "      <th>CAMPAIGN</th>\n",
       "      <th>START_DAY</th>\n",
       "      <th>END_DAY</th>\n",
       "    </tr>\n",
       "  </thead>\n",
       "  <tbody>\n",
       "    <tr>\n",
       "      <th>0</th>\n",
       "      <td>TypeB</td>\n",
       "      <td>24</td>\n",
       "      <td>659</td>\n",
       "      <td>719</td>\n",
       "    </tr>\n",
       "    <tr>\n",
       "      <th>1</th>\n",
       "      <td>TypeC</td>\n",
       "      <td>15</td>\n",
       "      <td>547</td>\n",
       "      <td>708</td>\n",
       "    </tr>\n",
       "    <tr>\n",
       "      <th>12</th>\n",
       "      <td>TypeA</td>\n",
       "      <td>13</td>\n",
       "      <td>504</td>\n",
       "      <td>551</td>\n",
       "    </tr>\n",
       "    <tr>\n",
       "      <th>16</th>\n",
       "      <td>TypeB</td>\n",
       "      <td>9</td>\n",
       "      <td>435</td>\n",
       "      <td>467</td>\n",
       "    </tr>\n",
       "    <tr>\n",
       "      <th>25</th>\n",
       "      <td>TypeA</td>\n",
       "      <td>30</td>\n",
       "      <td>323</td>\n",
       "      <td>369</td>\n",
       "    </tr>\n",
       "    <tr>\n",
       "      <th>26</th>\n",
       "      <td>TypeB</td>\n",
       "      <td>29</td>\n",
       "      <td>281</td>\n",
       "      <td>334</td>\n",
       "    </tr>\n",
       "  </tbody>\n",
       "</table>\n",
       "</div>"
      ],
      "text/plain": [
       "   DESCRIPTION  CAMPAIGN  START_DAY  END_DAY\n",
       "0        TypeB        24        659      719\n",
       "1        TypeC        15        547      708\n",
       "12       TypeA        13        504      551\n",
       "16       TypeB         9        435      467\n",
       "25       TypeA        30        323      369\n",
       "26       TypeB        29        281      334"
      ]
     },
     "metadata": {},
     "output_type": "display_data"
    },
    {
     "name": "stdout",
     "output_type": "stream",
     "text": [
      "27\n"
     ]
    },
    {
     "data": {
      "text/plain": [
       "'causal_data.csv'"
      ]
     },
     "metadata": {},
     "output_type": "display_data"
    },
    {
     "data": {
      "text/html": [
       "<div>\n",
       "<style scoped>\n",
       "    .dataframe tbody tr th:only-of-type {\n",
       "        vertical-align: middle;\n",
       "    }\n",
       "\n",
       "    .dataframe tbody tr th {\n",
       "        vertical-align: top;\n",
       "    }\n",
       "\n",
       "    .dataframe thead th {\n",
       "        text-align: right;\n",
       "    }\n",
       "</style>\n",
       "<table border=\"1\" class=\"dataframe\">\n",
       "  <thead>\n",
       "    <tr style=\"text-align: right;\">\n",
       "      <th></th>\n",
       "      <th>PRODUCT_ID</th>\n",
       "      <th>STORE_ID</th>\n",
       "      <th>WEEK_NO</th>\n",
       "      <th>display</th>\n",
       "      <th>mailer</th>\n",
       "    </tr>\n",
       "  </thead>\n",
       "  <tbody>\n",
       "    <tr>\n",
       "      <th>0</th>\n",
       "      <td>26190</td>\n",
       "      <td>286</td>\n",
       "      <td>70</td>\n",
       "      <td>0</td>\n",
       "      <td>A</td>\n",
       "    </tr>\n",
       "    <tr>\n",
       "      <th>1</th>\n",
       "      <td>26190</td>\n",
       "      <td>288</td>\n",
       "      <td>70</td>\n",
       "      <td>0</td>\n",
       "      <td>A</td>\n",
       "    </tr>\n",
       "    <tr>\n",
       "      <th>4</th>\n",
       "      <td>26190</td>\n",
       "      <td>293</td>\n",
       "      <td>70</td>\n",
       "      <td>0</td>\n",
       "      <td>A</td>\n",
       "    </tr>\n",
       "    <tr>\n",
       "      <th>10</th>\n",
       "      <td>26190</td>\n",
       "      <td>300</td>\n",
       "      <td>70</td>\n",
       "      <td>0</td>\n",
       "      <td>A</td>\n",
       "    </tr>\n",
       "    <tr>\n",
       "      <th>25</th>\n",
       "      <td>26190</td>\n",
       "      <td>323</td>\n",
       "      <td>70</td>\n",
       "      <td>5</td>\n",
       "      <td>A</td>\n",
       "    </tr>\n",
       "    <tr>\n",
       "      <th>26</th>\n",
       "      <td>26190</td>\n",
       "      <td>324</td>\n",
       "      <td>70</td>\n",
       "      <td>0</td>\n",
       "      <td>A</td>\n",
       "    </tr>\n",
       "  </tbody>\n",
       "</table>\n",
       "</div>"
      ],
      "text/plain": [
       "    PRODUCT_ID  STORE_ID  WEEK_NO  display mailer\n",
       "0        26190       286       70        0      A\n",
       "1        26190       288       70        0      A\n",
       "4        26190       293       70        0      A\n",
       "10       26190       300       70        0      A\n",
       "25       26190       323       70        5      A\n",
       "26       26190       324       70        0      A"
      ]
     },
     "metadata": {},
     "output_type": "display_data"
    }
   ],
   "source": [
    "headtailcsvs(\"./data/salesjourney/\",2)"
   ]
  }
 ],
 "metadata": {
  "kernelspec": {
   "display_name": "Python 3",
   "language": "python",
   "name": "python3"
  },
  "language_info": {
   "codemirror_mode": {
    "name": "ipython",
    "version": 3
   },
   "file_extension": ".py",
   "mimetype": "text/x-python",
   "name": "python",
   "nbconvert_exporter": "python",
   "pygments_lexer": "ipython3",
   "version": "3.7.2"
  }
 },
 "nbformat": 4,
 "nbformat_minor": 2
}
